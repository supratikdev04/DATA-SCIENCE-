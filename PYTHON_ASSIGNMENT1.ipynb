{
  "nbformat": 4,
  "nbformat_minor": 0,
  "metadata": {
    "colab": {
      "provenance": [],
      "authorship_tag": "ABX9TyMUUlelTG9ysWB+o+VUPvnZ",
      "include_colab_link": true
    },
    "kernelspec": {
      "name": "python3",
      "display_name": "Python 3"
    },
    "language_info": {
      "name": "python"
    }
  },
  "cells": [
    {
      "cell_type": "markdown",
      "metadata": {
        "id": "view-in-github",
        "colab_type": "text"
      },
      "source": [
        "<a href=\"https://colab.research.google.com/github/supratikdev04/DATA-SCIENCE-/blob/py_pw_assignment/PYTHON_ASSIGNMENT1.ipynb\" target=\"_parent\"><img src=\"https://colab.research.google.com/assets/colab-badge.svg\" alt=\"Open In Colab\"/></a>"
      ]
    },
    {
      "cell_type": "code",
      "execution_count": null,
      "metadata": {
        "id": "dIb9TO0eCFu-"
      },
      "outputs": [],
      "source": [
        "Q1. What is Python, and why is it popular?\n",
        "A. Python is a high-level, general-purpose programming language known for readability, a vast standard\n",
        "library, and a huge ecosystem of third-party packages. It’s popular because it lets you build quickly\n",
        "(concise syntax), spans many domains (web, data, AI, scripting, DevOps), and has strong community\n",
        "support.\n",
        "\n",
        "Q2. What is an interpreter in Python?\n",
        "A. The Python interpreter reads and executes Python code line by line. It translates Python source into\n",
        "bytecode which is then executed by the CPython virtual machine (or another implementation’s VM).\n",
        "\n",
        "Q3. What are pre-defined keywords in Python?\n",
        "A. Keywords are reserved words with special meaning (e.g., if, for, while, def, class, return, True, False,\n",
        "None). They cannot be used as identifiers (variable/function names).\n",
        "\n",
        "Q4. Can keywords be used as variable names?\n",
        "A. No. Keywords are reserved; attempting to use them as identifiers raises a syntax error.\n",
        "\n",
        "Q5. What is mutability in Python?\n",
        "A. Mutability is the ability of an object to change in place. Lists, dicts, and sets are mutable; numbers,\n",
        "strings, and tuples are immutable.\n",
        "\n",
        "Q6. Why are lists mutable, but tuples are immutable?\n",
        "A. By design: list methods (append, remove, etc.) allow in-place edits; tuples lack such mutating methods\n",
        "and are stored as fixed-size immutable sequences, which aids safety and hashing.\n",
        "\n",
        "Q7. What is the difference between '==' and 'is' operators in Python?\n",
        "A. '==' checks value equality (do the objects have equal content?). 'is' checks identity (are they the exact\n",
        "same object in memory?).\n",
        "\n",
        "Q8. What are logical operators in Python?\n",
        "A. and, or, not — used to combine or negate Boolean expressions with short-circuit evaluation.\n",
        "\n",
        "Q9. What is type casting in Python?\n",
        "A. Converting a value from one type to another (e.g., int('5'), float('3.14'), str(10)).\n",
        "\n",
        "Q10. What is the difference between implicit and explicit type casting?\n",
        "A. Implicit casting is done by Python automatically when safe (e.g., int + float => float). Explicit casting is\n",
        "performed by the programmer using constructors like int(), float(), str().\n",
        "\n",
        "Q11. What is the purpose of conditional statements in Python?\n",
        "A. They control flow based on conditions, allowing different code paths using if/elif/else.\n",
        "\n",
        "Q12. How does the elif statement work?\n",
        "A. elif provides additional mutually exclusive conditions after an initial if. The first True block executes; the\n",
        "rest are skipped.\n",
        "\n",
        "Q13. What is the difference between for and while loops?\n",
        "A. for loops iterate over a sequence/iterator with a known iterable; while loops continue while a Boolean\n",
        "condition is True and are useful when the number of iterations isn’t predetermined.\n",
        "\n",
        "Q14. Describe a scenario where a while loop is more suitable than a for loop.\n",
        "A. Reading from a stream until EOF, retrying until user inputs valid data, or looping until a convergence\n",
        "criterion is met—where the count is not known in advance."
      ]
    },
    {
      "cell_type": "code",
      "source": [
        "print(\"Hello, World!\")#Q1"
      ],
      "metadata": {
        "colab": {
          "base_uri": "https://localhost:8080/"
        },
        "id": "upea_pP4Fe1t",
        "outputId": "6753bf1b-fc84-4d84-8fac-7ef91ffa9322"
      },
      "execution_count": null,
      "outputs": [
        {
          "output_type": "stream",
          "name": "stdout",
          "text": [
            "Hello, World!\n"
          ]
        }
      ]
    },
    {
      "cell_type": "code",
      "source": [
        "#Q2\n",
        "name = \"Supratik\"\n",
        "age = 21\n",
        "print(f\"Name: {name}, Age: {age}\")"
      ],
      "metadata": {
        "colab": {
          "base_uri": "https://localhost:8080/"
        },
        "id": "3UudBqBkGEXq",
        "outputId": "333d843e-53e7-4796-cd79-f89948066625"
      },
      "execution_count": null,
      "outputs": [
        {
          "output_type": "stream",
          "name": "stdout",
          "text": [
            "Name: Supratik, Age: 21\n"
          ]
        }
      ]
    },
    {
      "cell_type": "code",
      "source": [
        "#Q3\n",
        "import keyword\n",
        "print(keyword.kwlist)"
      ],
      "metadata": {
        "colab": {
          "base_uri": "https://localhost:8080/"
        },
        "id": "tIPAE84uGLgb",
        "outputId": "40298241-c7f7-4461-ab2b-6006c44b180a"
      },
      "execution_count": null,
      "outputs": [
        {
          "output_type": "stream",
          "name": "stdout",
          "text": [
            "['False', 'None', 'True', 'and', 'as', 'assert', 'async', 'await', 'break', 'class', 'continue', 'def', 'del', 'elif', 'else', 'except', 'finally', 'for', 'from', 'global', 'if', 'import', 'in', 'is', 'lambda', 'nonlocal', 'not', 'or', 'pass', 'raise', 'return', 'try', 'while', 'with', 'yield']\n"
          ]
        }
      ]
    },
    {
      "cell_type": "code",
      "source": [
        "#Q4\n",
        "import keyword\n",
        "word = input('Enter a word: ').strip()\n",
        "print('Keyword' if word in keyword.kwlist else 'Not a keyword')"
      ],
      "metadata": {
        "colab": {
          "base_uri": "https://localhost:8080/"
        },
        "id": "GqFAsWpbGS0Y",
        "outputId": "1fbf6086-2092-4a13-a6c9-35173f395b04"
      },
      "execution_count": null,
      "outputs": [
        {
          "output_type": "stream",
          "name": "stdout",
          "text": [
            "Enter a word: HELLO\n",
            "Not a keyword\n"
          ]
        }
      ]
    },
    {
      "cell_type": "code",
      "source": [
        "#Q5\n",
        "lst = [1,2,3]\n",
        "tpl = (1,2,3)\n",
        "lst[0] = 10\n",
        "print('list:', lst)\n",
        "\n",
        "print('tuple:', tpl)"
      ],
      "metadata": {
        "colab": {
          "base_uri": "https://localhost:8080/"
        },
        "id": "6zQsteUiGZ3n",
        "outputId": "aacbaf89-3a63-42ab-a013-afeae7d2a12a"
      },
      "execution_count": null,
      "outputs": [
        {
          "output_type": "stream",
          "name": "stdout",
          "text": [
            "list: [10, 2, 3]\n",
            "tuple: (1, 2, 3)\n"
          ]
        }
      ]
    },
    {
      "cell_type": "code",
      "source": [
        "#Q6\n",
        "def bump_int(x):\n",
        " x += 1\n",
        " return x\n",
        "def append_item(lst):\n",
        " lst.append(99)\n",
        "n = 5\n",
        "m = [1,2,3]\n",
        "print('before:', n, m)\n",
        "n2 = bump_int(n)\n",
        "append_item(m)\n",
        "print('after: ', n, m, 'n2:', n2)"
      ],
      "metadata": {
        "colab": {
          "base_uri": "https://localhost:8080/"
        },
        "id": "V3ggH8pTGzQI",
        "outputId": "a10c1f98-278a-44a6-dc87-e22897959e59"
      },
      "execution_count": null,
      "outputs": [
        {
          "output_type": "stream",
          "name": "stdout",
          "text": [
            "before: 5 [1, 2, 3]\n",
            "after:  5 [1, 2, 3, 99] n2: 6\n"
          ]
        }
      ]
    },
    {
      "cell_type": "code",
      "source": [
        "#Q7\n",
        "a = float(input('a: '))\n",
        "b = float(input('b: '))\n",
        "print('sum=', a+b)\n",
        "print('diff=', a-b)\n",
        "print('prod=', a*b)\n",
        "print('quot=', a/b )"
      ],
      "metadata": {
        "colab": {
          "base_uri": "https://localhost:8080/"
        },
        "id": "y8XZeoFiG8tN",
        "outputId": "e881e1e2-2ab3-4392-efbe-1f60ea1e8a45"
      },
      "execution_count": null,
      "outputs": [
        {
          "output_type": "stream",
          "name": "stdout",
          "text": [
            "a: 20\n",
            "b: 5\n",
            "sum= 25.0\n",
            "diff= 15.0\n",
            "prod= 100.0\n",
            "quot= 4.0\n"
          ]
        }
      ]
    },
    {
      "cell_type": "code",
      "source": [
        "#Q8\n",
        "x, y = True, False\n",
        "print('x and y ->', x and y)\n",
        "print('x or y ->', x or y)\n",
        "print('not x ->', not x)"
      ],
      "metadata": {
        "colab": {
          "base_uri": "https://localhost:8080/"
        },
        "id": "hT_ysTT-HLSM",
        "outputId": "03a015d6-5da8-41c5-c47f-08362f625720"
      },
      "execution_count": null,
      "outputs": [
        {
          "output_type": "stream",
          "name": "stdout",
          "text": [
            "x and y -> False\n",
            "x or y -> True\n",
            "not x -> False\n"
          ]
        }
      ]
    },
    {
      "cell_type": "code",
      "source": [
        "#Q9\n",
        "s = input('value: ')\n",
        "print(int(float(s)))\n",
        "print(float(s))\n",
        "print(bool(s))"
      ],
      "metadata": {
        "colab": {
          "base_uri": "https://localhost:8080/"
        },
        "id": "SksQ-icHHRdS",
        "outputId": "4186f29c-afd7-4a67-dbf7-7ba749f98481"
      },
      "execution_count": null,
      "outputs": [
        {
          "output_type": "stream",
          "name": "stdout",
          "text": [
            "value: 8.94\n",
            "8\n",
            "8.94\n",
            "True\n"
          ]
        }
      ]
    },
    {
      "cell_type": "code",
      "source": [
        "#Q10\n",
        "nums = ['1','2','3']\n",
        "nums_int = list(map(int, nums))\n",
        "print(nums_int)"
      ],
      "metadata": {
        "colab": {
          "base_uri": "https://localhost:8080/"
        },
        "id": "JlnEIJ0hHdQa",
        "outputId": "3ee94a6e-6820-44d1-8acb-66310a95441a"
      },
      "execution_count": null,
      "outputs": [
        {
          "output_type": "stream",
          "name": "stdout",
          "text": [
            "[1, 2, 3]\n"
          ]
        }
      ]
    },
    {
      "cell_type": "code",
      "source": [
        "#Q11\n",
        "n = float(input('n: '))\n",
        "print('positive' if n>0 else 'negative' if n<0 else 'zero')"
      ],
      "metadata": {
        "colab": {
          "base_uri": "https://localhost:8080/"
        },
        "id": "5rgyPP8vHj1n",
        "outputId": "b46312e3-3745-4b07-b2c9-6e865fc7dcc7"
      },
      "execution_count": null,
      "outputs": [
        {
          "output_type": "stream",
          "name": "stdout",
          "text": [
            "n: -745\n",
            "negative\n"
          ]
        }
      ]
    },
    {
      "cell_type": "code",
      "source": [
        "#Q12\n",
        "for i in range(1, 11):\n",
        " print(i)"
      ],
      "metadata": {
        "colab": {
          "base_uri": "https://localhost:8080/"
        },
        "id": "quWMUj0cHxlx",
        "outputId": "3b9ec636-0439-4a8e-8824-ecb314d02e98"
      },
      "execution_count": null,
      "outputs": [
        {
          "output_type": "stream",
          "name": "stdout",
          "text": [
            "1\n",
            "2\n",
            "3\n",
            "4\n",
            "5\n",
            "6\n",
            "7\n",
            "8\n",
            "9\n",
            "10\n"
          ]
        }
      ]
    },
    {
      "cell_type": "code",
      "source": [
        "#Q13\n",
        "sum=0\n",
        "for i in range(1,51) :\n",
        "  if (i%2==0):\n",
        "      sum+=i\n",
        "      print(f\"Adding {i}, current sum: {sum}\")"
      ],
      "metadata": {
        "colab": {
          "base_uri": "https://localhost:8080/"
        },
        "id": "0miukjf3H7pn",
        "outputId": "fa40783e-9789-4f30-fdca-03fd20652b68"
      },
      "execution_count": null,
      "outputs": [
        {
          "output_type": "stream",
          "name": "stdout",
          "text": [
            "Adding 2, current sum: 2\n",
            "Adding 4, current sum: 6\n",
            "Adding 6, current sum: 12\n",
            "Adding 8, current sum: 20\n",
            "Adding 10, current sum: 30\n",
            "Adding 12, current sum: 42\n",
            "Adding 14, current sum: 56\n",
            "Adding 16, current sum: 72\n",
            "Adding 18, current sum: 90\n",
            "Adding 20, current sum: 110\n",
            "Adding 22, current sum: 132\n",
            "Adding 24, current sum: 156\n",
            "Adding 26, current sum: 182\n",
            "Adding 28, current sum: 210\n",
            "Adding 30, current sum: 240\n",
            "Adding 32, current sum: 272\n",
            "Adding 34, current sum: 306\n",
            "Adding 36, current sum: 342\n",
            "Adding 38, current sum: 380\n",
            "Adding 40, current sum: 420\n",
            "Adding 42, current sum: 462\n",
            "Adding 44, current sum: 506\n",
            "Adding 46, current sum: 552\n",
            "Adding 48, current sum: 600\n",
            "Adding 50, current sum: 650\n"
          ]
        }
      ]
    },
    {
      "cell_type": "code",
      "source": [
        "#Q14\n",
        "s = input('string: ')\n",
        "rev = ''\n",
        "i = len(s)-1\n",
        "while i >= 0:\n",
        " rev += s[i]\n",
        " i -= 1\n",
        "print(rev)"
      ],
      "metadata": {
        "colab": {
          "base_uri": "https://localhost:8080/"
        },
        "id": "DjEckClcJWJM",
        "outputId": "fb9a827c-f76a-42f6-8a71-c2bf0ffd815a"
      },
      "execution_count": null,
      "outputs": [
        {
          "output_type": "stream",
          "name": "stdout",
          "text": [
            "string: SUPRATIK\n",
            "KITARPUS\n"
          ]
        }
      ]
    },
    {
      "cell_type": "code",
      "source": [
        "#Q15\n",
        "n = int(input('n: '))\n",
        "f = 1\n",
        "i = 2\n",
        "while i <= n:\n",
        " f *= i\n",
        " i += 1\n",
        "print(f)"
      ],
      "metadata": {
        "colab": {
          "base_uri": "https://localhost:8080/"
        },
        "id": "JOy7L_2RJePa",
        "outputId": "1c75efe0-0ba8-4efc-b62e-5b9de242f61f"
      },
      "execution_count": null,
      "outputs": [
        {
          "output_type": "stream",
          "name": "stdout",
          "text": [
            "n: 6\n",
            "720\n"
          ]
        }
      ]
    }
  ]
}